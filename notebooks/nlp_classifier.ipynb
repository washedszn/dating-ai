{
 "cells": [
  {
   "cell_type": "markdown",
   "metadata": {},
   "source": [
    "# Natural Language Processing Research\n",
    "\n",
    "There are many fields on dating app profiles which the user writes themselves, therefore creating a language processing problem. My idea is to classify preferences using a Bag-of-words model."
   ]
  },
  {
   "cell_type": "code",
   "execution_count": 34,
   "metadata": {},
   "outputs": [],
   "source": [
    "import pandas as pd\n",
    "import json\n",
    "import re\n",
    "\n",
    "f = open('data/bumble.json')\n",
    "profiles = json.load(f)\n",
    "\n",
    "# Function to transform the array of objects into a DataFrame\n",
    "def transform_data_to_dataframe(data):\n",
    "    # Prepare an empty list to collect rows\n",
    "    rows = []\n",
    "    \n",
    "    # Iterate through each object in the data\n",
    "    for obj in data:\n",
    "        # Extract the required information\n",
    "        row = {\n",
    "            'liked': obj['liked'],\n",
    "            'spotify': ' '.join(obj['spotifyArtists'])\n",
    "        }\n",
    "        \n",
    "        # Flatten the attributes into individual columns\n",
    "        for attr in obj['storyContent']:\n",
    "            if 'About' in attr['heading']:\n",
    "                # this heading is about <person_name> needs to be handled separately\n",
    "                row['About']= attr['content']\n",
    "            else:\n",
    "                row[attr['heading']]= attr['content']\n",
    "            \n",
    "        # Append the row to the list of rows\n",
    "        rows.append(row)\n",
    "    \n",
    "    # Create a DataFrame from the rows\n",
    "    return pd.DataFrame(rows)\n",
    "\n",
    "df = transform_data_to_dataframe(profiles)\n",
    "df.head()\n",
    "df.to_csv('data/test.csv')"
   ]
  },
  {
   "cell_type": "markdown",
   "metadata": {},
   "source": [
    "Now lets combine the text from all the columns"
   ]
  },
  {
   "cell_type": "code",
   "execution_count": 32,
   "metadata": {},
   "outputs": [
    {
     "data": {
      "text/plain": [
       "(<200x1224 sparse matrix of type '<class 'numpy.int64'>'\n",
       " \twith 2453 stored elements in Compressed Sparse Row format>,\n",
       " array(['13', '1970s', '1975', '1st', '3000', '4th', '5year', '70s',\n",
       "        '70s80s90s00s', '73'], dtype=object))"
      ]
     },
     "execution_count": 32,
     "metadata": {},
     "output_type": "execute_result"
    }
   ],
   "source": [
    "from sklearn.feature_extraction.text import CountVectorizer\n",
    "import re\n",
    "\n",
    "def preprocess_text(text):\n",
    "    # combine text if it's not NaN, then lowercase and remove punctuation\n",
    "    text = ' '.join([str(item) for item in text if pd.notnull(item)]).lower()\n",
    "    text = re.sub(r'[^a-z0-9\\s]', '', text)\n",
    "    return text\n",
    "\n",
    "features = df.drop(columns=['liked'])\n",
    "\n",
    "preprocessed_texts = features.apply(preprocess_text, axis=1)\n",
    "\n",
    "vectorizer = CountVectorizer()\n",
    "\n",
    "X = vectorizer.fit_transform(preprocessed_texts)\n",
    "\n",
    "feature_names = vectorizer.get_feature_names_out()\n",
    "\n",
    "(X, feature_names[:10])"
   ]
  },
  {
   "cell_type": "markdown",
   "metadata": {},
   "source": [
    "Now lets actually train a model for this"
   ]
  },
  {
   "cell_type": "code",
   "execution_count": 37,
   "metadata": {},
   "outputs": [
    {
     "name": "stdout",
     "output_type": "stream",
     "text": [
      "              precision    recall  f1-score   support\n",
      "\n",
      "       False       0.90      1.00      0.95        18\n",
      "        True       0.00      0.00      0.00         2\n",
      "\n",
      "    accuracy                           0.90        20\n",
      "   macro avg       0.45      0.50      0.47        20\n",
      "weighted avg       0.81      0.90      0.85        20\n",
      "\n"
     ]
    },
    {
     "name": "stderr",
     "output_type": "stream",
     "text": [
      "c:\\Users\\henry\\anaconda3\\Lib\\site-packages\\sklearn\\metrics\\_classification.py:1344: UndefinedMetricWarning: Precision and F-score are ill-defined and being set to 0.0 in labels with no predicted samples. Use `zero_division` parameter to control this behavior.\n",
      "  _warn_prf(average, modifier, msg_start, len(result))\n",
      "c:\\Users\\henry\\anaconda3\\Lib\\site-packages\\sklearn\\metrics\\_classification.py:1344: UndefinedMetricWarning: Precision and F-score are ill-defined and being set to 0.0 in labels with no predicted samples. Use `zero_division` parameter to control this behavior.\n",
      "  _warn_prf(average, modifier, msg_start, len(result))\n",
      "c:\\Users\\henry\\anaconda3\\Lib\\site-packages\\sklearn\\metrics\\_classification.py:1344: UndefinedMetricWarning: Precision and F-score are ill-defined and being set to 0.0 in labels with no predicted samples. Use `zero_division` parameter to control this behavior.\n",
      "  _warn_prf(average, modifier, msg_start, len(result))\n"
     ]
    }
   ],
   "source": [
    "from sklearn.model_selection import train_test_split\n",
    "from sklearn.svm import SVC\n",
    "from sklearn.metrics import classification_report\n",
    "\n",
    "y = df['liked']\n",
    "\n",
    "X_train, X_test, y_train, y_test = train_test_split(X, y, test_size=0.2, random_state=42)\n",
    "\n",
    "model = SVC()\n",
    "model.fit(X_train, y_train)\n",
    "\n",
    "y_pred = model.predict(X_test)\n",
    "\n",
    "report = classification_report(y_test, y_pred)\n",
    "print(report)"
   ]
  }
 ],
 "metadata": {
  "kernelspec": {
   "display_name": "base",
   "language": "python",
   "name": "python3"
  },
  "language_info": {
   "codemirror_mode": {
    "name": "ipython",
    "version": 3
   },
   "file_extension": ".py",
   "mimetype": "text/x-python",
   "name": "python",
   "nbconvert_exporter": "python",
   "pygments_lexer": "ipython3",
   "version": "3.11.5"
  }
 },
 "nbformat": 4,
 "nbformat_minor": 2
}
