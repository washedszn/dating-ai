{
 "cells": [
  {
   "cell_type": "markdown",
   "metadata": {},
   "source": [
    "# Rating Faces\n",
    "\n",
    "As much as we all want to say we only care about personality, people do have their preferences. So, I want to include facial ratings in the extensions match predictions - in the hopes this will narrow the gap between false and real positives."
   ]
  },
  {
   "cell_type": "code",
   "execution_count": null,
   "metadata": {},
   "outputs": [],
   "source": [
    "from IPython.display import display, Image\n",
    "import base64\n",
    "import json\n",
    "\n",
    "f = open('./data/bumble.json')\n",
    "p = json.load(f)\n",
    "\n",
    "# for obj in p:\n",
    "#     if 'faces' in obj.keys():\n",
    "#         if len(obj['faces']) == 0:\n",
    "#             continue\n",
    "#         if type(obj['faces'][0]) is str:\n",
    "#             # delete these from list\n",
    "    \n",
    "filtered_p = list(filter(lambda obj: not ('faces' in obj and (len(obj['faces']) == 0 or type(obj['faces'][0]) is str)), p))\n",
    "\n",
    "print(json.dumps(filtered_p))"
   ]
  }
 ],
 "metadata": {
  "kernelspec": {
   "display_name": "base",
   "language": "python",
   "name": "python3"
  },
  "language_info": {
   "codemirror_mode": {
    "name": "ipython",
    "version": 3
   },
   "file_extension": ".py",
   "mimetype": "text/x-python",
   "name": "python",
   "nbconvert_exporter": "python",
   "pygments_lexer": "ipython3",
   "version": "3.11.5"
  }
 },
 "nbformat": 4,
 "nbformat_minor": 2
}
